{
 "metadata": {
  "name": "",
  "signature": "sha256:fb2a9e16dbde9af4188073bd53e9b56847f9822205ada4349479b69bd10812ca"
 },
 "nbformat": 3,
 "nbformat_minor": 0,
 "worksheets": [
  {
   "cells": [
    {
     "cell_type": "code",
     "collapsed": false,
     "input": [
      "from csv_util import Csv\n",
      "print Csv.__doc__"
     ],
     "language": "python",
     "metadata": {},
     "outputs": [
      {
       "output_type": "stream",
       "stream": "stdout",
       "text": [
        "Utility class for reading/writing CSV files.\n",
        "\n",
        "    Args:\n",
        "        - *fn*: CSV filename\n",
        "        - *delimiter*: character (default ,); set to \" \" for whitespace-delimited files.\n",
        "        - *comment*: ignore lines beginning with this (default #)\n",
        "        - *numeric*: attempt to convert values to floats\n",
        "\n",
        "    Methods:\n",
        "        - *reload*: reload file\n",
        "        - *keys*: get column titles\n",
        "        - *values*: get column values as lists of strings\n",
        "        - *items*: zip(keys(), values())\n",
        "        - *float*: get column values as ndarray of floats, if possible\n",
        "    \n",
        "    You can access column values as lists using the ``[key]`` syntax on the\n",
        "    class object, which behaves like a dictionary. The keys() method gives \n",
        "    a list of column headers.\n",
        "\n",
        "    Attributes:\n",
        "        - *delimiter*\n",
        "        - *fn*\n",
        "        - *txt*: text of CSV file (actually this is used rather than *fn* to\n",
        "          read data from. You can definitely set this attribute directly if you like.)\n",
        "        - *f*: file-like object built from *txt*, read-only\n",
        "        - *DictReader*: :class:`csv.DictReader` object\n",
        "        - *table*: list of list of string objects, each inner list is a row of the CSV\n",
        "        - *ndarray*: convert table into an numpy ndarray (fails if there is\n",
        "          non-numerical data in the CSV)\n",
        "\n",
        "    \n"
       ]
      }
     ],
     "prompt_number": 28
    },
    {
     "cell_type": "code",
     "collapsed": false,
     "input": [
      "c = Csv(\"spdata.csv\")"
     ],
     "language": "python",
     "metadata": {},
     "outputs": [],
     "prompt_number": 27
    },
    {
     "cell_type": "code",
     "collapsed": false,
     "input": [
      "print ''.join(c.f.readlines()[:7])"
     ],
     "language": "python",
     "metadata": {},
     "outputs": [
      {
       "output_type": "stream",
       "stream": "stdout",
       "text": [
        "date,time,easting,northing,res_kohm,rove-base,base-rove,notes,clean_notes,SP,repeat,distance_calc,line,difference,lag,distance_nominal,label_text,label_italic,label_bold,label_x,label_y,label_distance,label_rotation\n",
        "22/11/2012,12:18:35,589350,6893861,nan,0,0,base; zero voltage by definition,Base electrode (bentonite),0,no,1309.85,S1,,,,,,,,,,\n",
        "22/11/2012,12:19:35,589331,6893863,2.8,16,-17,bearing 264,,16.5,no,1291.08,S1,,,,1300,,,,,,\n",
        "22/11/2012,12:22:40,589311,6893862,15.5,17,-17,,,17,no,1271.06,S1,,,, ,,,,,,\n",
        "22/11/2012,12:24:00,589292,6893862,10,18,-19,,,18.5,no,1252.14,S1,,,, ,,,,,,\n",
        "22/11/2012,12:25:20,589273,6893862,93,49,-49,very dry; gravels in creek bed,,49,no,1233.24,S1,,,, ,,,,,,\n",
        "22/11/2012,12:26:55,589253,6893863,950,62,-61,very dry; gravels in creek bed,,61.5,no,1213.47,S1,,,,,,,,,,\n",
        "\n"
       ]
      }
     ],
     "prompt_number": 18
    },
    {
     "cell_type": "code",
     "collapsed": false,
     "input": [
      "print c.rows[3] # start counting from zero, excluding the header and any commented lines"
     ],
     "language": "python",
     "metadata": {},
     "outputs": [
      {
       "output_type": "stream",
       "stream": "stdout",
       "text": [
        "['22/11/2012', '12:24:00', 589292.0, 6893862.0, 10.0, 18.0, -19.0, nan, nan, 18.5, 'no', 1252.14, 'S1', nan, nan, nan, ' ', nan, nan, nan, nan, nan, nan]\n"
       ]
      }
     ],
     "prompt_number": 23
    },
    {
     "cell_type": "code",
     "collapsed": false,
     "input": [
      "print c.keys()"
     ],
     "language": "python",
     "metadata": {},
     "outputs": [
      {
       "output_type": "stream",
       "stream": "stdout",
       "text": [
        "['date', 'time', 'easting', 'northing', 'res_kohm', 'rove-base', 'base-rove', 'notes', 'clean_notes', 'SP', 'repeat', 'distance_calc', 'line', 'difference', 'lag', 'distance_nominal', 'label_text', 'label_italic', 'label_bold', 'label_x', 'label_y', 'label_distance', 'label_rotation']\n"
       ]
      }
     ],
     "prompt_number": 9
    },
    {
     "cell_type": "code",
     "collapsed": false,
     "input": [
      "print c[\"time\"][:10]"
     ],
     "language": "python",
     "metadata": {},
     "outputs": [
      {
       "output_type": "stream",
       "stream": "stdout",
       "text": [
        "['12:18:35', '12:19:35', '12:22:40', '12:24:00', '12:25:20', '12:26:55', '12:31:35', '12:33:55', '12:35:50', '12:38:20']\n"
       ]
      }
     ],
     "prompt_number": 25
    },
    {
     "cell_type": "markdown",
     "metadata": {},
     "source": [
      "There are lots of other useful methods which I will document when I get some time!"
     ]
    },
    {
     "cell_type": "code",
     "collapsed": false,
     "input": [],
     "language": "python",
     "metadata": {},
     "outputs": []
    }
   ],
   "metadata": {}
  }
 ]
}